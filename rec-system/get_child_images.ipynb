{
 "cells": [
  {
   "cell_type": "code",
   "execution_count": null,
   "metadata": {},
   "outputs": [],
   "source": [
    "# Import required libraries\n",
    "\n",
    "# System and background processes\n",
    "import os\n",
    "import requests\n",
    "\n",
    "# Data creation and processing\n",
    "import pandas as pd\n",
    "import csv"
   ]
  },
  {
   "cell_type": "code",
   "execution_count": null,
   "metadata": {},
   "outputs": [],
   "source": [
    "## Create constant for IMAGE_FILE_PATH\n",
    "IMAGE_FILE_PATH = os.path.join('data', 'Child_Images.csv')"
   ]
  },
  {
   "cell_type": "code",
   "execution_count": null,
   "metadata": {},
   "outputs": [],
   "source": [
    "# The endpoint for the Random User Generator API\n",
    "RANDOM_USER_API_ENDPOINT = 'https://randomuser.me/api/'\n",
    "\n",
    "def get_child_profile_pictures(num_images=1500):\n",
    "    \"\"\"\n",
    "    Fetch child profile pictures from the Random User Generator API and store in a CSV file.\n",
    "\n",
    "    Parameters:\n",
    "    - num_images (int): The number of profile pictures to fetch. Default is 1500.\n",
    "\n",
    "    Returns:\n",
    "    - pd.DataFrame: DataFrame containing image data with columns 'image_id' and 'image_url'.\n",
    "    \"\"\"\n",
    "    # Dictionary to store image data\n",
    "    image_data = {'image_id': [], 'image_url': []}\n",
    "\n",
    "    # Loop to fetch profile pictures\n",
    "    for _ in range(num_images):\n",
    "        # Request user data from the API\n",
    "        response = requests.get(f'{RANDOM_USER_API_ENDPOINT}?inc=picture')\n",
    "        \n",
    "        # Check if the request was successful\n",
    "        if response.status_code == 200:\n",
    "            # Extract user data from the API response\n",
    "            user_data = response.json()['results'][0]\n",
    "            image_id = len(image_data['image_id']) + 1\n",
    "            image_url = user_data['picture']['large']\n",
    "            \n",
    "            # Append image data to the dictionary\n",
    "            image_data['image_id'].append(image_id)\n",
    "            image_data['image_url'].append(image_url)\n",
    "            \n",
    "            # Print information about the fetched image\n",
    "            print(f\"Image ID: {image_id}, Image URL: {image_url}\")\n",
    "\n",
    "    # Create a DataFrame from the image data\n",
    "    image_df = pd.DataFrame(image_data)\n",
    "\n",
    "    # Check if the CSV file exists\n",
    "    try:\n",
    "        # If the CSV exists, read it and append the new data\n",
    "        existing_df = pd.read_csv(IMAGE_FILE_PATH)\n",
    "        combined_df = pd.concat([existing_df, image_df], ignore_index=True)\n",
    "        combined_df.to_csv(IMAGE_FILE_PATH, index=False)\n",
    "    except FileNotFoundError:\n",
    "        # If the CSV doesn't exist, create a new one with the new data\n",
    "        image_df.to_csv(IMAGE_FILE_PATH, index=False)\n",
    "\n",
    "    # Return the DataFrame with image data\n",
    "    return image_df\n",
    "\n",
    "# Example: Get 1500 child profile pictures and save to CSV\n",
    "child_profile_pics_df = get_child_profile_pictures(num_images=1500)\n",
    "\n",
    "# # Display the DataFrame\n",
    "# print(child_profile_pics_df)\n"
   ]
  }
 ],
 "metadata": {
  "kernelspec": {
   "display_name": "Python 3",
   "language": "python",
   "name": "python3"
  },
  "language_info": {
   "codemirror_mode": {
    "name": "ipython",
    "version": 3
   },
   "file_extension": ".py",
   "mimetype": "text/x-python",
   "name": "python",
   "nbconvert_exporter": "python",
   "pygments_lexer": "ipython3",
   "version": "3.8.5"
  },
  "orig_nbformat": 4
 },
 "nbformat": 4,
 "nbformat_minor": 2
}
